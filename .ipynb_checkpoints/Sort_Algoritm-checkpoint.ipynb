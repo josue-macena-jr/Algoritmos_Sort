{
 "cells": [
  {
   "cell_type": "markdown",
   "metadata": {},
   "source": [
    "Algortimos de Sort usando POO"
   ]
  },
  {
   "cell_type": "code",
   "execution_count": 108,
   "metadata": {},
   "outputs": [],
   "source": [
    "import timeit\n",
    "from random import sample, choices\n",
    "\n",
    "class Lista(list):\n",
    "    \n",
    "    def __init__(self, lst = []):\n",
    "        list.__init__\n",
    "        self.extend(lst)\n",
    "        \n",
    "    #Funções para gerar uma lista de valores que irão ser ordenados:\n",
    "    \n",
    "    #Random: gera valores aletórios únicos entre 1 e 100 (por padrão).\n",
    "    def random(self, init = 1, final = 100, tam = 100):\n",
    "        self.clear()\n",
    "        self.extend(sample(range(init,final + 1),tam))\n",
    "    \n",
    "    #Reverse: gera valores de 1 a 100 de forma decrescente.\n",
    "    def reverse(self, init = 100, final = 1):\n",
    "        self.clear()\n",
    "        self.extend([i for i in range(init, final-1,-1)])\n",
    "    \n",
    "    #NearlySort: gera uma lista com valores quase bem ordenados.\n",
    "    def nearlySort(self, init = 1, final = 100, tam = 100):\n",
    "        pass \n",
    "    \n",
    "    #FewUnique: gera os valores pré-definidos com dados pesos\n",
    "    def fewUnique(self, tam = 100):\n",
    "        self.clear()\n",
    "        self.extend(choices([10,50,75,100],weights = [15,20,15,50],k = tam))\n",
    "        \n",
    "    #Funções para fazer o ordenamento:\n",
    "    \n",
    "    def bubble(self):\n",
    "        pass\n",
    "    \n",
    "    def insertion(self):\n",
    "        pass\n",
    "    \n",
    "    def selection(self):\n",
    "        pass\n",
    "    \n",
    "    def shell(self):\n",
    "        pass\n",
    "    \n",
    "    def merge(self):\n",
    "        pass\n",
    "    \n",
    "    def heap(self):\n",
    "        pass\n",
    "    \n",
    "    def quick(self):\n",
    "        pass\n",
    "    \n",
    "    def quick3(self):\n",
    "        pass\n",
    "    "
   ]
  },
  {
   "cell_type": "code",
   "execution_count": 109,
   "metadata": {},
   "outputs": [],
   "source": [
    "lista = Lista()"
   ]
  },
  {
   "cell_type": "code",
   "execution_count": null,
   "metadata": {},
   "outputs": [],
   "source": []
  }
 ],
 "metadata": {
  "kernelspec": {
   "display_name": "Python 3",
   "language": "python",
   "name": "python3"
  },
  "language_info": {
   "codemirror_mode": {
    "name": "ipython",
    "version": 3
   },
   "file_extension": ".py",
   "mimetype": "text/x-python",
   "name": "python",
   "nbconvert_exporter": "python",
   "pygments_lexer": "ipython3",
   "version": "3.8.5"
  }
 },
 "nbformat": 4,
 "nbformat_minor": 4
}
